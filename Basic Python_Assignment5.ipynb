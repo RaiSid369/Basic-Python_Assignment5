{
 "cells": [
  {
   "cell_type": "code",
   "execution_count": null,
   "id": "c7dfb7f0",
   "metadata": {},
   "outputs": [],
   "source": [
    "# Que 1. What does an empty dictionary's code look like?"
   ]
  },
  {
   "cell_type": "code",
   "execution_count": null,
   "id": "2a82ab06",
   "metadata": {},
   "outputs": [],
   "source": [
    "# Ans: d = {}"
   ]
  },
  {
   "cell_type": "code",
   "execution_count": null,
   "id": "0120ac20",
   "metadata": {},
   "outputs": [],
   "source": []
  },
  {
   "cell_type": "code",
   "execution_count": null,
   "id": "dd5a4c34",
   "metadata": {},
   "outputs": [],
   "source": [
    "# Que 2. What is the value of a dictionary value with the key 'foo' and the value 42?"
   ]
  },
  {
   "cell_type": "code",
   "execution_count": null,
   "id": "65f135f0",
   "metadata": {},
   "outputs": [],
   "source": [
    "# Ans: {'foo': 42}"
   ]
  },
  {
   "cell_type": "code",
   "execution_count": null,
   "id": "747b7285",
   "metadata": {},
   "outputs": [],
   "source": []
  },
  {
   "cell_type": "code",
   "execution_count": null,
   "id": "5698d912",
   "metadata": {},
   "outputs": [],
   "source": [
    "# Que 3. What is the most significant distinction between a dictionary and a list?"
   ]
  },
  {
   "cell_type": "code",
   "execution_count": null,
   "id": "445c8bc0",
   "metadata": {},
   "outputs": [],
   "source": [
    "# Ans: A list is similar to an array where the data can be of multiple data types like integer, float, string, tuple, etc. \n",
    "#     While a dictionary is an ordered collection of data stored as a key-value pair."
   ]
  },
  {
   "cell_type": "code",
   "execution_count": null,
   "id": "d6ace442",
   "metadata": {},
   "outputs": [],
   "source": []
  },
  {
   "cell_type": "code",
   "execution_count": null,
   "id": "7e9f1d43",
   "metadata": {},
   "outputs": [],
   "source": [
    "# Que 4. What happens if you try to access spam['foo'] if spam is {'bar': 100}?"
   ]
  },
  {
   "cell_type": "code",
   "execution_count": null,
   "id": "700c8386",
   "metadata": {},
   "outputs": [],
   "source": [
    "# Ans: It will display a key error"
   ]
  },
  {
   "cell_type": "code",
   "execution_count": null,
   "id": "d2da5799",
   "metadata": {},
   "outputs": [],
   "source": []
  },
  {
   "cell_type": "code",
   "execution_count": null,
   "id": "52377128",
   "metadata": {},
   "outputs": [],
   "source": [
    "# Que 5. If a dictionary is stored in spam, what is the difference between the expressions 'cat' in spam .\n",
    "# and 'cat' in spam.keys()?"
   ]
  },
  {
   "cell_type": "code",
   "execution_count": null,
   "id": "0007ae8b",
   "metadata": {},
   "outputs": [],
   "source": [
    "# Ans: There is no difference between the two. Both will display the same result."
   ]
  },
  {
   "cell_type": "code",
   "execution_count": null,
   "id": "8e2e0bc9",
   "metadata": {},
   "outputs": [],
   "source": []
  },
  {
   "cell_type": "code",
   "execution_count": null,
   "id": "54353ca1",
   "metadata": {},
   "outputs": [],
   "source": [
    "# Que 6. If a dictionary is stored in spam, what is the difference between the expressions 'cat' in spam and \n",
    "# 'cat' in spam.values()?"
   ]
  },
  {
   "cell_type": "code",
   "execution_count": null,
   "id": "d1491707",
   "metadata": {},
   "outputs": [],
   "source": [
    "# Ans: Expression 'cat' in spam will search 'cat' in the keys of the spam dictionary. \n",
    "#     It will not search from the values of the spam dictionary. \n",
    "#     However, this is not the case with expression 'cat' in spam.values(). \n",
    "#     It will search from the values of the spam dictionary."
   ]
  },
  {
   "cell_type": "code",
   "execution_count": null,
   "id": "0b0d1e01",
   "metadata": {},
   "outputs": [],
   "source": []
  },
  {
   "cell_type": "code",
   "execution_count": null,
   "id": "6ee12bf9",
   "metadata": {},
   "outputs": [],
   "source": [
    "# Que 7. What is a shortcut for the following code?\n",
    "\n",
    "# if 'color' not in spam:\n",
    "\n",
    "# spam['color'] = 'black'"
   ]
  },
  {
   "cell_type": "code",
   "execution_count": null,
   "id": "8c4d7b13",
   "metadata": {},
   "outputs": [],
   "source": [
    "# Ans: spam.setdefault('abc', 'pqr')"
   ]
  },
  {
   "cell_type": "code",
   "execution_count": null,
   "id": "721773d7",
   "metadata": {},
   "outputs": [],
   "source": []
  },
  {
   "cell_type": "code",
   "execution_count": null,
   "id": "4d2dd6bb",
   "metadata": {},
   "outputs": [],
   "source": [
    "# Que 8. How do you \"pretty print\" dictionary values using which module and function?"
   ]
  },
  {
   "cell_type": "code",
   "execution_count": null,
   "id": "c9bf99be",
   "metadata": {},
   "outputs": [],
   "source": [
    "# Ans: import pprint\n",
    "# dictionary_variable = {fill the required data}\n",
    "# pprint.pprint (dictionary_variable)\n",
    "\n",
    "# Same result could be achieved by using JSON library"
   ]
  }
 ],
 "metadata": {
  "kernelspec": {
   "display_name": "Python 3 (ipykernel)",
   "language": "python",
   "name": "python3"
  },
  "language_info": {
   "codemirror_mode": {
    "name": "ipython",
    "version": 3
   },
   "file_extension": ".py",
   "mimetype": "text/x-python",
   "name": "python",
   "nbconvert_exporter": "python",
   "pygments_lexer": "ipython3",
   "version": "3.9.12"
  }
 },
 "nbformat": 4,
 "nbformat_minor": 5
}
